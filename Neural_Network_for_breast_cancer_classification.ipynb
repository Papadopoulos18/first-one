{
  "nbformat": 4,
  "nbformat_minor": 0,
  "metadata": {
    "colab": {
      "name": "Neural Network for breast cancer classification.ipynb",
      "provenance": [],
      "collapsed_sections": [],
      "authorship_tag": "ABX9TyP8tL9aD8SWhq7231vCtexq",
      "include_colab_link": true
    },
    "kernelspec": {
      "name": "python3",
      "display_name": "Python 3"
    }
  },
  "cells": [
    {
      "cell_type": "markdown",
      "metadata": {
        "id": "view-in-github",
        "colab_type": "text"
      },
      "source": [
        "<a href=\"https://colab.research.google.com/github/Papadopoulos18/first-one/blob/master/Neural_Network_for_breast_cancer_classification.ipynb\" target=\"_parent\"><img src=\"https://colab.research.google.com/assets/colab-badge.svg\" alt=\"Open In Colab\"/></a>"
      ]
    },
    {
      "cell_type": "code",
      "metadata": {
        "colab": {
          "resources": {
            "http://localhost:8080/nbextensions/google.colab/files.js": {
              "data": "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",
              "ok": true,
              "headers": [
                [
                  "content-type",
                  "application/javascript"
                ]
              ],
              "status": 200,
              "status_text": ""
            }
          },
          "base_uri": "https://localhost:8080/",
          "height": 174
        },
        "id": "71pIpTxUNnhj",
        "outputId": "de1def66-5de9-4cc8-fced-2717ede69376"
      },
      "source": [
        "import pandas as pd\r\n",
        "\r\n",
        "from google.colab import files\r\n",
        "\r\n",
        "file = files.upload()\r\n",
        "\r\n",
        "# X = input and Y = output\r\n",
        "\r\n",
        "X_train = pd.read_csv(\"xtrain.csv\", header=None)\r\n",
        "Y_train = pd.read_csv(\"ytrain.csv\", header=None)\r\n",
        "X_test = pd.read_csv(\"xtest.csv\", header=None)\r\n",
        "Y_test = pd.read_csv(\"ytest.csv\", header=None)"
      ],
      "execution_count": 2,
      "outputs": [
        {
          "output_type": "display_data",
          "data": {
            "text/html": [
              "\n",
              "     <input type=\"file\" id=\"files-7155f5f7-e453-426e-b9cd-933730e830ef\" name=\"files[]\" multiple disabled\n",
              "        style=\"border:none\" />\n",
              "     <output id=\"result-7155f5f7-e453-426e-b9cd-933730e830ef\">\n",
              "      Upload widget is only available when the cell has been executed in the\n",
              "      current browser session. Please rerun this cell to enable.\n",
              "      </output>\n",
              "      <script src=\"/nbextensions/google.colab/files.js\"></script> "
            ],
            "text/plain": [
              "<IPython.core.display.HTML object>"
            ]
          },
          "metadata": {
            "tags": []
          }
        },
        {
          "output_type": "stream",
          "text": [
            "Saving xtest.csv to xtest.csv\n",
            "Saving xtrain.csv to xtrain.csv\n",
            "Saving ytest.csv to ytest.csv\n",
            "Saving ytrain.csv to ytrain.csv\n"
          ],
          "name": "stdout"
        }
      ]
    },
    {
      "cell_type": "code",
      "metadata": {
        "id": "2YYW1gLaQXBn"
      },
      "source": [
        "from keras.models import Sequential\r\n",
        "from keras.layers import Dense\r\n",
        "\r\n",
        "\r\n",
        "# κανουμε τα dense layers \r\n",
        "classifier = Sequential()\r\n",
        "\r\n",
        "classifier.add(Dense(16, activation='relu', input_dim=30))\r\n",
        "classifier.add(Dense(8, activation='relu'))\r\n",
        "classifier.add(Dense(6, activation='relu'))\r\n",
        "classifier.add(Dense(1, activation='sigmoid'))\r\n",
        "\r\n",
        "\r\n"
      ],
      "execution_count": 6,
      "outputs": []
    },
    {
      "cell_type": "code",
      "metadata": {
        "id": "iKKRF04rR4rw"
      },
      "source": [
        "# βαζουμε αυτο το loss γιατι το τελευταιο layer μας ειναι 1, και το output ειναι \r\n",
        "# 0 εαν ειναι benign=αγαθος ή malignant=κακοήθης, για τα καρκινικα κυταρα\r\n",
        "classifier.compile(optimizer='rmsprop', loss='binary_crossentropy')\r\n",
        "\r\n"
      ],
      "execution_count": 9,
      "outputs": []
    },
    {
      "cell_type": "code",
      "metadata": {
        "colab": {
          "base_uri": "https://localhost:8080/"
        },
        "id": "2OzQB29JSso4",
        "outputId": "26c187a7-f6b9-4567-a8ab-c4b7ba5f2da2"
      },
      "source": [
        "classifier.fit(X_train, Y_train, batch_size=1, epochs=100)"
      ],
      "execution_count": 10,
      "outputs": [
        {
          "output_type": "stream",
          "text": [
            "Epoch 1/100\n",
            "455/455 [==============================] - 1s 1ms/step - loss: 0.4583\n",
            "Epoch 2/100\n",
            "455/455 [==============================] - 1s 1ms/step - loss: 0.2179\n",
            "Epoch 3/100\n",
            "455/455 [==============================] - 1s 1ms/step - loss: 0.1188\n",
            "Epoch 4/100\n",
            "455/455 [==============================] - 1s 1ms/step - loss: 0.0904\n",
            "Epoch 5/100\n",
            "455/455 [==============================] - 1s 1ms/step - loss: 0.1105\n",
            "Epoch 6/100\n",
            "455/455 [==============================] - 1s 1ms/step - loss: 0.0848\n",
            "Epoch 7/100\n",
            "455/455 [==============================] - 1s 1ms/step - loss: 0.0770\n",
            "Epoch 8/100\n",
            "455/455 [==============================] - 1s 1ms/step - loss: 0.0903\n",
            "Epoch 9/100\n",
            "455/455 [==============================] - 1s 1ms/step - loss: 0.0641\n",
            "Epoch 10/100\n",
            "455/455 [==============================] - 1s 1ms/step - loss: 0.0653\n",
            "Epoch 11/100\n",
            "455/455 [==============================] - 1s 1ms/step - loss: 0.0499\n",
            "Epoch 12/100\n",
            "455/455 [==============================] - 1s 1ms/step - loss: 0.0449\n",
            "Epoch 13/100\n",
            "455/455 [==============================] - 1s 1ms/step - loss: 0.0343\n",
            "Epoch 14/100\n",
            "455/455 [==============================] - 1s 1ms/step - loss: 0.0291\n",
            "Epoch 15/100\n",
            "455/455 [==============================] - 1s 1ms/step - loss: 0.0587\n",
            "Epoch 16/100\n",
            "455/455 [==============================] - 1s 1ms/step - loss: 0.0790\n",
            "Epoch 17/100\n",
            "455/455 [==============================] - 1s 1ms/step - loss: 0.0380\n",
            "Epoch 18/100\n",
            "455/455 [==============================] - 1s 1ms/step - loss: 0.0763\n",
            "Epoch 19/100\n",
            "455/455 [==============================] - 1s 1ms/step - loss: 0.0720\n",
            "Epoch 20/100\n",
            "455/455 [==============================] - 1s 1ms/step - loss: 0.0353\n",
            "Epoch 21/100\n",
            "455/455 [==============================] - 1s 1ms/step - loss: 0.0810\n",
            "Epoch 22/100\n",
            "455/455 [==============================] - 1s 1ms/step - loss: 0.0523\n",
            "Epoch 23/100\n",
            "455/455 [==============================] - 1s 1ms/step - loss: 0.0297\n",
            "Epoch 24/100\n",
            "455/455 [==============================] - 1s 1ms/step - loss: 0.0554\n",
            "Epoch 25/100\n",
            "455/455 [==============================] - 1s 1ms/step - loss: 0.0453\n",
            "Epoch 26/100\n",
            "455/455 [==============================] - 1s 1ms/step - loss: 0.0515\n",
            "Epoch 27/100\n",
            "455/455 [==============================] - 1s 1ms/step - loss: 0.1082\n",
            "Epoch 28/100\n",
            "455/455 [==============================] - 1s 1ms/step - loss: 0.0547\n",
            "Epoch 29/100\n",
            "455/455 [==============================] - 1s 1ms/step - loss: 0.1333\n",
            "Epoch 30/100\n",
            "455/455 [==============================] - 1s 1ms/step - loss: 0.0992\n",
            "Epoch 31/100\n",
            "455/455 [==============================] - 1s 1ms/step - loss: 0.0782\n",
            "Epoch 32/100\n",
            "455/455 [==============================] - 1s 1ms/step - loss: 0.0374\n",
            "Epoch 33/100\n",
            "455/455 [==============================] - 1s 1ms/step - loss: 0.0416\n",
            "Epoch 34/100\n",
            "455/455 [==============================] - 1s 1ms/step - loss: 0.0518\n",
            "Epoch 35/100\n",
            "455/455 [==============================] - 1s 1ms/step - loss: 0.0552\n",
            "Epoch 36/100\n",
            "455/455 [==============================] - 1s 1ms/step - loss: 0.0527\n",
            "Epoch 37/100\n",
            "455/455 [==============================] - 1s 1ms/step - loss: 0.0323\n",
            "Epoch 38/100\n",
            "455/455 [==============================] - 1s 1ms/step - loss: 0.0518\n",
            "Epoch 39/100\n",
            "455/455 [==============================] - 1s 1ms/step - loss: 0.0465\n",
            "Epoch 40/100\n",
            "455/455 [==============================] - 1s 1ms/step - loss: 0.1069\n",
            "Epoch 41/100\n",
            "455/455 [==============================] - 1s 1ms/step - loss: 0.0398\n",
            "Epoch 42/100\n",
            "455/455 [==============================] - 1s 1ms/step - loss: 0.0209\n",
            "Epoch 43/100\n",
            "455/455 [==============================] - 1s 1ms/step - loss: 0.0453\n",
            "Epoch 44/100\n",
            "455/455 [==============================] - 1s 1ms/step - loss: 0.0425\n",
            "Epoch 45/100\n",
            "455/455 [==============================] - 1s 1ms/step - loss: 0.0285\n",
            "Epoch 46/100\n",
            "455/455 [==============================] - 1s 1ms/step - loss: 0.0377\n",
            "Epoch 47/100\n",
            "455/455 [==============================] - 1s 1ms/step - loss: 0.0159\n",
            "Epoch 48/100\n",
            "455/455 [==============================] - 1s 1ms/step - loss: 0.0301\n",
            "Epoch 49/100\n",
            "455/455 [==============================] - 1s 1ms/step - loss: 0.0357\n",
            "Epoch 50/100\n",
            "455/455 [==============================] - 1s 1ms/step - loss: 0.0426\n",
            "Epoch 51/100\n",
            "455/455 [==============================] - 1s 1ms/step - loss: 0.1160\n",
            "Epoch 52/100\n",
            "455/455 [==============================] - 1s 1ms/step - loss: 0.0679\n",
            "Epoch 53/100\n",
            "455/455 [==============================] - 1s 1ms/step - loss: 0.0191\n",
            "Epoch 54/100\n",
            "455/455 [==============================] - 1s 1ms/step - loss: 0.0151\n",
            "Epoch 55/100\n",
            "455/455 [==============================] - 1s 1ms/step - loss: 0.0384\n",
            "Epoch 56/100\n",
            "455/455 [==============================] - 1s 1ms/step - loss: 0.0418\n",
            "Epoch 57/100\n",
            "455/455 [==============================] - 1s 1ms/step - loss: 0.0220\n",
            "Epoch 58/100\n",
            "455/455 [==============================] - 1s 1ms/step - loss: 0.0223\n",
            "Epoch 59/100\n",
            "455/455 [==============================] - 1s 1ms/step - loss: 0.0557\n",
            "Epoch 60/100\n",
            "455/455 [==============================] - 1s 1ms/step - loss: 0.0417\n",
            "Epoch 61/100\n",
            "455/455 [==============================] - 1s 1ms/step - loss: 0.0417\n",
            "Epoch 62/100\n",
            "455/455 [==============================] - 1s 1ms/step - loss: 0.0308\n",
            "Epoch 63/100\n",
            "455/455 [==============================] - 1s 1ms/step - loss: 0.0177\n",
            "Epoch 64/100\n",
            "455/455 [==============================] - 1s 1ms/step - loss: 0.0286\n",
            "Epoch 65/100\n",
            "455/455 [==============================] - 1s 1ms/step - loss: 0.0242\n",
            "Epoch 66/100\n",
            "455/455 [==============================] - 1s 1ms/step - loss: 0.0715\n",
            "Epoch 67/100\n",
            "455/455 [==============================] - 1s 1ms/step - loss: 0.0462\n",
            "Epoch 68/100\n",
            "455/455 [==============================] - 1s 1ms/step - loss: 0.0474\n",
            "Epoch 69/100\n",
            "455/455 [==============================] - 1s 1ms/step - loss: 0.0564\n",
            "Epoch 70/100\n",
            "455/455 [==============================] - 1s 1ms/step - loss: 0.0654\n",
            "Epoch 71/100\n",
            "455/455 [==============================] - 1s 1ms/step - loss: 0.0306\n",
            "Epoch 72/100\n",
            "455/455 [==============================] - 1s 1ms/step - loss: 0.0406\n",
            "Epoch 73/100\n",
            "455/455 [==============================] - 1s 1ms/step - loss: 0.0309\n",
            "Epoch 74/100\n",
            "455/455 [==============================] - 1s 1ms/step - loss: 0.0367\n",
            "Epoch 75/100\n",
            "455/455 [==============================] - 1s 1ms/step - loss: 0.0129\n",
            "Epoch 76/100\n",
            "455/455 [==============================] - 1s 1ms/step - loss: 0.0256\n",
            "Epoch 77/100\n",
            "455/455 [==============================] - 1s 1ms/step - loss: 0.0816\n",
            "Epoch 78/100\n",
            "455/455 [==============================] - 1s 1ms/step - loss: 0.0315\n",
            "Epoch 79/100\n",
            "455/455 [==============================] - 1s 1ms/step - loss: 0.0114\n",
            "Epoch 80/100\n",
            "455/455 [==============================] - 1s 1ms/step - loss: 0.0705\n",
            "Epoch 81/100\n",
            "455/455 [==============================] - 1s 1ms/step - loss: 0.1227\n",
            "Epoch 82/100\n",
            "455/455 [==============================] - 1s 1ms/step - loss: 0.0174\n",
            "Epoch 83/100\n",
            "455/455 [==============================] - 1s 1ms/step - loss: 0.0234\n",
            "Epoch 84/100\n",
            "455/455 [==============================] - 1s 1ms/step - loss: 0.0296\n",
            "Epoch 85/100\n",
            "455/455 [==============================] - 1s 1ms/step - loss: 0.0297\n",
            "Epoch 86/100\n",
            "455/455 [==============================] - 1s 1ms/step - loss: 0.0266\n",
            "Epoch 87/100\n",
            "455/455 [==============================] - 1s 1ms/step - loss: 0.0389\n",
            "Epoch 88/100\n",
            "455/455 [==============================] - 1s 1ms/step - loss: 0.0459\n",
            "Epoch 89/100\n",
            "455/455 [==============================] - 1s 1ms/step - loss: 0.0279\n",
            "Epoch 90/100\n",
            "455/455 [==============================] - 1s 1ms/step - loss: 0.0324\n",
            "Epoch 91/100\n",
            "455/455 [==============================] - 1s 1ms/step - loss: 0.0145\n",
            "Epoch 92/100\n",
            "455/455 [==============================] - 1s 1ms/step - loss: 0.0454\n",
            "Epoch 93/100\n",
            "455/455 [==============================] - 1s 1ms/step - loss: 0.0178\n",
            "Epoch 94/100\n",
            "455/455 [==============================] - 1s 1ms/step - loss: 0.0190\n",
            "Epoch 95/100\n",
            "455/455 [==============================] - 1s 1ms/step - loss: 0.0218\n",
            "Epoch 96/100\n",
            "455/455 [==============================] - 1s 1ms/step - loss: 0.0072\n",
            "Epoch 97/100\n",
            "455/455 [==============================] - 1s 1ms/step - loss: 0.0133\n",
            "Epoch 98/100\n",
            "455/455 [==============================] - 1s 1ms/step - loss: 0.0362\n",
            "Epoch 99/100\n",
            "455/455 [==============================] - 1s 1ms/step - loss: 0.0555\n",
            "Epoch 100/100\n",
            "455/455 [==============================] - 1s 1ms/step - loss: 0.0158\n"
          ],
          "name": "stdout"
        },
        {
          "output_type": "execute_result",
          "data": {
            "text/plain": [
              "<tensorflow.python.keras.callbacks.History at 0x7f9cb38a6518>"
            ]
          },
          "metadata": {
            "tags": []
          },
          "execution_count": 10
        }
      ]
    },
    {
      "cell_type": "code",
      "metadata": {
        "id": "Zop-YlRcUVGc"
      },
      "source": [
        "# λεμε οτι εαν το prediction ειναι μεγαλυτερο απο 0.5(50%) το κανουμε 1\r\n",
        "\r\n",
        "Y_pred = classifier.predict(X_test)\r\n",
        "Y_pred = [1 if  y>=0.5 else 0 for y in Y_pred]"
      ],
      "execution_count": 11,
      "outputs": []
    },
    {
      "cell_type": "code",
      "metadata": {
        "colab": {
          "base_uri": "https://localhost:8080/"
        },
        "id": "dGNXaa4WVEdC",
        "outputId": "4b443d8c-0001-4034-8cbd-98b0a487cf85"
      },
      "source": [
        "# κανουμε compare τα Y_pred με τα πραγματικα Y_test για να δουμε ποσο παρόμοια ειναι\r\n",
        "# αμα ειναι ιδια το correct ανεβαινει \r\n",
        "\r\n",
        "total = 0\r\n",
        "correct = 0 \r\n",
        "wrong = 0\r\n",
        "\r\n",
        "for i in range(len(Y_pred)):\r\n",
        "  total += 1\r\n",
        "  if(Y_test.at[i,0] == Y_pred[i]):\r\n",
        "    correct += 1\r\n",
        "  else:\r\n",
        "    wrong += 1\r\n",
        "\r\n",
        "print(f'Total: {total}')\r\n",
        "print(f'Correct: {correct}')\r\n",
        "print(f'Wrong: {wrong}')"
      ],
      "execution_count": 15,
      "outputs": [
        {
          "output_type": "stream",
          "text": [
            "Total: 114\n",
            "Correct: 111\n",
            "Wrong: 3\n"
          ],
          "name": "stdout"
        }
      ]
    },
    {
      "cell_type": "code",
      "metadata": {
        "id": "L7h00d7xV_l5"
      },
      "source": [
        ""
      ],
      "execution_count": null,
      "outputs": []
    }
  ]
}